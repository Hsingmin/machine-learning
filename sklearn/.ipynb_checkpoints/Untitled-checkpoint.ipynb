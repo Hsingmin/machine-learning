{
 "cells": [
  {
   "cell_type": "code",
   "execution_count": 11,
   "metadata": {},
   "outputs": [
    {
     "data": {
      "image/png": "[encoded data removed]",
      "text/plain": [
       "<matplotlib.figure.Figure at 0xa752ba8>"
      ]
     },
     "metadata": {},
     "output_type": "display_data"
    }
   ],
   "source": [
    "from sklearn import datasets\n",
    "import matplotlib.pyplot as plt\n",
    "import numpy as np\n",
    "\n",
    "%matplotlib inline\n",
    "\n",
    "digits = datasets.load_digits()\n",
    "\n",
    "def display_img(img_no):\n",
    "    fig, ax = plt.subplots()\n",
    "    ax.set_xticklabels([])\n",
    "    ax.set_yticklabels([])\n",
    "    ax.matshow(digits.images[img_no], cmap = plt.cm.binary);\n",
    "\n",
    "#display_img(0)\n",
    "digits.images[0]\n",
    "digits.data[0].shape\n",
    "digits.target[0]\n",
    "\n",
    "# cosine similarity\n",
    "\n",
    "import pandas as pd\n",
    "from sklearn.metrics.pairwise import cosine_similarity\n",
    "\n",
    "#  numpy.ndarry\n",
    "X = digits.data\n",
    "co_sim = cosine_similarity(X[0].reshape(1, -1), X)\n",
    "\n",
    "cosf = pd.DataFrame(co_sim).T\n",
    "cosf.columns = ['similarity']\n",
    "cosf.sort_values('similarity', ascending = False)\n",
    "\n",
    "#display_img(1626)\n",
    "\n",
    "# chi-quared kernel\n",
    "from sklearn.metrics.pairwise import chi2_kernel\n",
    "k_sim = chi2_kernel(X[0].reshape(1, -1), X)\n",
    "kf = pd.DataFrame(k_sim).T\n",
    "kf.columns = ['similarity']\n",
    "kf.sort_values('similarity', ascending = False)\n",
    "display_img(1167)\n"
   ]
  },
  {
   "cell_type": "code",
   "execution_count": null,
   "metadata": {
    "collapsed": true
   },
   "outputs": [],
   "source": []
  }
 ],
 "metadata": {
  "kernelspec": {
   "display_name": "Python 3",
   "language": "python",
   "name": "python3"
  },
  "language_info": {
   "codemirror_mode": {
    "name": "ipython",
    "version": 3
   },
   "file_extension": ".py",
   "mimetype": "text/x-python",
   "name": "python",
   "nbconvert_exporter": "python",
   "pygments_lexer": "ipython3",
   "version": "3.5.2"
  }
 },
 "nbformat": 4,
 "nbformat_minor": 2
}
