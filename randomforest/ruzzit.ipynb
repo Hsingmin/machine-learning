{
 "cells": [
  {
   "cell_type": "code",
   "execution_count": 15,
   "metadata": {
    "scrolled": false
   },
   "outputs": [
    {
     "data": {
      "text/plain": [
       "[(0, 0, 0), (1, 1, 1), (2, 2, 2)]"
      ]
     },
     "execution_count": 15,
     "metadata": {},
     "output_type": "execute_result"
    }
   ],
   "source": [
    "import requests\n",
    "import pandas as pd\n",
    "import numpy as np\n",
    "import json\n",
    "import time\n",
    "from selenium import webdriver\n",
    "\n",
    "import codecs\n",
    "\n",
    "pd.set_option('display.max_colwidth', 200)\n",
    "\n",
    "#browser = webdriver.PhantomJS()\n",
    "#browser.set_window_size(1080, 800)\n",
    "#browser.get(\"http://www.ruzzit.com/\")\n",
    "#time.sleep(3)\n",
    "#pg_scroll_count = 50\n",
    "#while pg_scroll_count:\n",
    " #   browser.execute_script(\"window.scrollTo(0, document.body.scrollHeight);\")\n",
    "  #  time.sleep(15)\n",
    "   # pg_scroll_count -= 1\n",
    "\n",
    "#titles = browser.find_elements_by_class_name(\"article_title\")\n",
    "#link_class = browser.find_elements_by_class_name(\"link_read_more_article\")\n",
    "#stats = browser.find_elements_by_class_name(\"ruzzit_statistics_area\")\n",
    "\n",
    "#all_data = []\n",
    "#for title, link, stat in zip(titles, link_class, stats):\n",
    " #   all_data.append((title.text,\\\n",
    "  #                   link.get_attribute(\"href\"),\\\n",
    "   #                  stat.find_element_by_class_name(\"col-md-12\").text.split(' shares')[0],\n",
    "    #                 stat.find_element_by_class_name(\"col-md-12\").text.split('tweets\\n')[1].split('likes\\n0')[0],\n",
    "     #                stat.find_element_by_class_name(\"col-md-12\").text.split('1\\'s\\n')[1].split(' pins')[0],\n",
    "      #               stat.find_element_by_class_name(\"col-md-12\").text.split('pins\\n')[1]\n",
    "       #             ))\n",
    "    \n",
    "#df = pd.DataFrame(all_data, columns = ['title', 'link', 'fb', 'lnkdn', 'pins', 'date'])\n",
    "\n",
    "all_data = list(codecs.open('d:/python_work/machine-learning/randomforest/ruzzit-utf8.txt', 'r', 'utf-8'))\n",
    "\n",
    "group_data = ['']*(len(all_data)// 6)\n",
    "\n",
    "for line in all_data:\n",
    "    group_data[(all_data.index(line) // 6)] += line\n",
    "    #print(group_data[(all_data.index(line) // 6)])\n",
    "group_data\n",
    "\n",
    "def parse_line(row):\n",
    "    row = row.split(',')[0]\n",
    "    return row\n",
    "\n",
    "#df.applymap(parse_line)\n",
    "\n",
    "List = [(['']* 6) for i in range((len(all_data)// 6))]\n",
    "\n",
    "df = pd.DataFrame(columns = ['title', 'link', 'fb', 'lnkdn', 'pins', 'date'])\n",
    "\n",
    "for line in all_data:\n",
    "    List[int(all_data.index(line)/ 6)][int(all_data.index(line)% 6)] = line\n",
    "    \n",
    "df = pd.DataFrame(List, columns = ['title', 'link', 'fb', 'lnkdn', 'pins', 'date'])\n",
    "df = df.applymap(lambda x: x.strip())    \n",
    "#df = df.applymap(lambda x: x.split(\"'\")[1] if \"'\" in str(x) else x)\n",
    "\n",
    "def check_home(x):\n",
    "    if '.com' in x:\n",
    "        if len(x.split('.com')[1]) < 2:\n",
    "            return 1\n",
    "        else:\n",
    "            return 0\n",
    "    else:\n",
    "        return 0\n",
    "    \n",
    "def check_img(x):\n",
    "    if '.gif' in x or '.jpg' in x :\n",
    "        return 1\n",
    "    else:\n",
    "        return 0\n",
    "\n",
    "from bs4 import BeautifulSoup\n",
    "def text_from_html(x):\n",
    "    try:\n",
    "        soup = BeautifulSoup(x, 'lxml')\n",
    "        return soup.get_text()\n",
    "    except:\n",
    "        return None\n",
    "\n",
    "x = [0, 1, 2]\n",
    "r = zip(* [x] * 3)\n",
    "list(r)\n"
   ]
  },
  {
   "cell_type": "code",
   "execution_count": null,
   "metadata": {
    "collapsed": true
   },
   "outputs": [],
   "source": []
  },
  {
   "cell_type": "code",
   "execution_count": null,
   "metadata": {
    "collapsed": true
   },
   "outputs": [],
   "source": []
  }
 ],
 "metadata": {
  "kernelspec": {
   "display_name": "Python 3",
   "language": "python",
   "name": "python3"
  },
  "language_info": {
   "codemirror_mode": {
    "name": "ipython",
    "version": 3
   },
   "file_extension": ".py",
   "mimetype": "text/x-python",
   "name": "python",
   "nbconvert_exporter": "python",
   "pygments_lexer": "ipython3",
   "version": "3.5.2"
  }
 },
 "nbformat": 4,
 "nbformat_minor": 2
}
