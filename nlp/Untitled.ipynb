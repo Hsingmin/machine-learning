{
 "cells": [
  {
   "cell_type": "code",
   "execution_count": 6,
   "metadata": {},
   "outputs": [
    {
     "data": {
      "text/plain": [
       "array([[ 0.73854895]])"
      ]
     },
     "execution_count": 6,
     "metadata": {},
     "output_type": "execute_result"
    }
   ],
   "source": [
    "\n",
    "import numpy as np\n",
    "\n",
    "from sklearn.metrics.pairwise import cosine_similarity\n",
    "\n",
    "user_x = [0, .33, 0, -.66, 0, .33, 0]\n",
    "user_y = [0, 0, 0, -1, 0, .5, .5]\n",
    "user_z = [0, -.125, 0, -.625, 0, .375, .375]\n",
    "\n",
    "cosine_similarity(np.array(user_x).reshape(1, -1), np.array(user_y).reshape(1, -1))\n",
    "\n",
    "cosine_similarity(np.array(user_x).reshape(1, -1), np.array(user_z).reshape(1, -1))"
   ]
  },
  {
   "cell_type": "code",
   "execution_count": 9,
   "metadata": {},
   "outputs": [
    {
     "data": {
      "text/plain": [
       "4.5"
      ]
     },
     "execution_count": 9,
     "metadata": {},
     "output_type": "execute_result"
    }
   ],
   "source": [
    "import pandas as pd\n",
    "import numpy as np\n",
    "from sklearn.metrics.pairwise import cosine_similarity\n",
    "\n",
    "df = pd.DataFrame({'U1': [2, None, 1, None, 3], 'U2': [None, 3, None, 4, None],\\\n",
    "                  'U3': [4, None, 5, 4, None], 'U4': [None, 3, None, 4, None],\\\n",
    "                  'U5': [5, None, 4, None, 5]})\n",
    "df.index = ['S1', 'S2', 'S3', 'S4', 'S5']\n",
    "\n",
    "def get_sim(ratings, target_user, target_item, k = 2):\n",
    "    centered_ratings = ratings.apply(lambda x : x - x.mean(), axis = 1)\n",
    "    csim_list = []\n",
    "    for i in centered_ratings.index:\n",
    "        csim_list.append(cosine_similarity(np.nan_to_num(centered_ratings.loc[i, :].values).reshape(1, -1),\\\n",
    "                                           np.nan_to_num(centered_ratings.loc[target_item, :]).reshape(1, -1)).item())\n",
    "        new_ratings = pd.DataFrame({'similarity' : csim_list, 'rating' : ratings[target_user]}, index = ratings.index)\n",
    "        \n",
    "        top = new_ratings.dropna().sort_values('similarity', ascending = False)[ :k].copy()\n",
    "        \n",
    "        top['multiple'] = top['rating'] * top['similarity']\n",
    "        \n",
    "        result = top['multiple'].sum() / top['similarity'].sum()\n",
    "        \n",
    "        return result\n",
    "    \n",
    "get_sim(df, 'U3', 'S5', 2)\n"
   ]
  },
  {
   "cell_type": "code",
   "execution_count": null,
   "metadata": {
    "collapsed": true
   },
   "outputs": [],
   "source": []
  }
 ],
 "metadata": {
  "kernelspec": {
   "display_name": "Python 3",
   "language": "python",
   "name": "python3"
  },
  "language_info": {
   "codemirror_mode": {
    "name": "ipython",
    "version": 3
   },
   "file_extension": ".py",
   "mimetype": "text/x-python",
   "name": "python",
   "nbconvert_exporter": "python",
   "pygments_lexer": "ipython3",
   "version": "3.5.2"
  }
 },
 "nbformat": 4,
 "nbformat_minor": 2
}
